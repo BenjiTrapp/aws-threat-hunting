{
 "cells": [
  {
   "cell_type": "markdown",
   "id": "31364d19",
   "metadata": {},
   "source": [
    "# Hypothesis\n",
    "\n"
   ]
  },
  {
   "cell_type": "markdown",
   "id": "42eef6e4",
   "metadata": {},
   "source": [
    "# Baseline \n",
    "\n",
    "Download from summitroute.com the Public Dataset of CloudTrail Logs [here](https://summitroute.com/blog/2020/10/09/public_dataset_of_cloudtrail_logs_from_flaws_cloud/) and extract it into a folder. \n",
    "\n",
    "Next we'll require a coulple of imports"
   ]
  },
  {
   "cell_type": "code",
   "execution_count": null,
   "id": "c02c48bb",
   "metadata": {},
   "outputs": [],
   "source": []
  },
  {
   "cell_type": "code",
   "execution_count": null,
   "id": "06593287",
   "metadata": {},
   "outputs": [],
   "source": []
  }
 ],
 "metadata": {
  "kernelspec": {
   "display_name": "Python 3 (ipykernel)",
   "language": "python",
   "name": "python3"
  },
  "language_info": {
   "codemirror_mode": {
    "name": "ipython",
    "version": 3
   },
   "file_extension": ".py",
   "mimetype": "text/x-python",
   "name": "python",
   "nbconvert_exporter": "python",
   "pygments_lexer": "ipython3",
   "version": "3.10.8"
  }
 },
 "nbformat": 4,
 "nbformat_minor": 5
}
